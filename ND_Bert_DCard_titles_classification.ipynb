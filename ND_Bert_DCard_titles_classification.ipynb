{
  "nbformat": 4,
  "nbformat_minor": 0,
  "metadata": {
    "colab": {
      "name": "ND-Bert-DCard-titles-classification.ipynb",
      "provenance": [],
      "collapsed_sections": [],
      "toc_visible": true,
      "include_colab_link": true
    },
    "kernelspec": {
      "name": "python3",
      "display_name": "Python 3"
    },
    "accelerator": "GPU"
  },
  "cells": [
    {
      "cell_type": "markdown",
      "metadata": {
        "id": "view-in-github",
        "colab_type": "text"
      },
      "source": [
        "<a href=\"https://colab.research.google.com/github/yehfanju/hello-world/blob/master/ND_Bert_DCard_titles_classification.ipynb\" target=\"_parent\"><img src=\"https://colab.research.google.com/assets/colab-badge.svg\" alt=\"Open In Colab\"/></a>"
      ]
    },
    {
      "cell_type": "markdown",
      "metadata": {
        "id": "w3S_GXyzPhd-"
      },
      "source": [
        "# DCard 標題分類"
      ]
    },
    {
      "cell_type": "markdown",
      "metadata": {
        "id": "yV4RvkPsZ9_K"
      },
      "source": [
        "## 環境設置"
      ]
    },
    {
      "cell_type": "code",
      "metadata": {
        "id": "DV3WdHuEFfEZ",
        "colab": {
          "base_uri": "https://localhost:8080/"
        },
        "outputId": "33b6ece1-17c0-4535-85c5-50a5c80ed802"
      },
      "source": [
        "!gdown --id 1BRhhF1TXI8Z2BsSRmv20_ChOFu1r3-QR\n",
        "!pip install -q -U transformers"
      ],
      "execution_count": null,
      "outputs": [
        {
          "output_type": "stream",
          "text": [
            "Downloading...\n",
            "From: https://drive.google.com/uc?id=1BRhhF1TXI8Z2BsSRmv20_ChOFu1r3-QR\n",
            "To: /content/dcard_titles.csv\n",
            "\r  0% 0.00/44.9k [00:00<?, ?B/s]\r100% 44.9k/44.9k [00:00<00:00, 40.1MB/s]\n"
          ],
          "name": "stdout"
        }
      ]
    },
    {
      "cell_type": "code",
      "metadata": {
        "id": "NC8wuoKU7nGH"
      },
      "source": [
        "import torch\r\n",
        "import torch.optim as optim\r\n",
        "import torch.nn as nn\r\n",
        "from tqdm.auto import tqdm\r\n",
        "import matplotlib.pyplot as plt\r\n",
        "from sklearn.preprocessing import LabelEncoder\r\n",
        "from transformers import BertTokenizer, BertForSequenceClassification\r\n",
        "from sklearn.metrics import accuracy_score, confusion_matrix\r\n",
        "import numpy as np"
      ],
      "execution_count": null,
      "outputs": []
    },
    {
      "cell_type": "markdown",
      "metadata": {
        "id": "2xwwmyfsXcih"
      },
      "source": [
        "## 資料前處理"
      ]
    },
    {
      "cell_type": "code",
      "metadata": {
        "colab": {
          "base_uri": "https://localhost:8080/",
          "height": 402
        },
        "id": "kDlMfHZ2ExCh",
        "outputId": "8c18fbfb-b02c-4af0-fe31-766f1cb92175"
      },
      "source": [
        "import pandas as pd\n",
        "label_enc = LabelEncoder()\n",
        "titles = pd.read_csv(\"dcard_titles.csv\")\n",
        "titles = titles.sample(frac=1, random_state=12345)\n",
        "titles[\"label\"] = label_enc.fit_transform(titles.forum)\n",
        "titles"
      ],
      "execution_count": null,
      "outputs": [
        {
          "output_type": "execute_result",
          "data": {
            "text/html": [
              "<div>\n",
              "<style scoped>\n",
              "    .dataframe tbody tr th:only-of-type {\n",
              "        vertical-align: middle;\n",
              "    }\n",
              "\n",
              "    .dataframe tbody tr th {\n",
              "        vertical-align: top;\n",
              "    }\n",
              "\n",
              "    .dataframe thead th {\n",
              "        text-align: right;\n",
              "    }\n",
              "</style>\n",
              "<table border=\"1\" class=\"dataframe\">\n",
              "  <thead>\n",
              "    <tr style=\"text-align: right;\">\n",
              "      <th></th>\n",
              "      <th>title</th>\n",
              "      <th>forum</th>\n",
              "      <th>label</th>\n",
              "    </tr>\n",
              "  </thead>\n",
              "  <tbody>\n",
              "    <tr>\n",
              "      <th>144</th>\n",
              "      <td>calvin klein的皮帶如何？？</td>\n",
              "      <td>dressup</td>\n",
              "      <td>1</td>\n",
              "    </tr>\n",
              "    <tr>\n",
              "      <th>833</th>\n",
              "      <td>#問題 #問題 哪裡可以買砂紙</td>\n",
              "      <td>stationery</td>\n",
              "      <td>8</td>\n",
              "    </tr>\n",
              "    <tr>\n",
              "      <th>270</th>\n",
              "      <td>心裡的檻卡住了🥲</td>\n",
              "      <td>relationship</td>\n",
              "      <td>7</td>\n",
              "    </tr>\n",
              "    <tr>\n",
              "      <th>468</th>\n",
              "      <td>#免費占卜 #免費八字 幫你卜一卦 第23篇</td>\n",
              "      <td>tarot</td>\n",
              "      <td>9</td>\n",
              "    </tr>\n",
              "    <tr>\n",
              "      <th>962</th>\n",
              "      <td>#有雷 拆彈專家2 中性評價</td>\n",
              "      <td>movie</td>\n",
              "      <td>4</td>\n",
              "    </tr>\n",
              "    <tr>\n",
              "      <th>...</th>\n",
              "      <td>...</td>\n",
              "      <td>...</td>\n",
              "      <td>...</td>\n",
              "    </tr>\n",
              "    <tr>\n",
              "      <th>420</th>\n",
              "      <td>塔羅牌義交流（花影&amp;偉特）</td>\n",
              "      <td>tarot</td>\n",
              "      <td>9</td>\n",
              "    </tr>\n",
              "    <tr>\n",
              "      <th>129</th>\n",
              "      <td>靴子怎麼挑？今年流行的妹子感及膝靴腿粗能穿嗎？掌握三點精準挑靴👢</td>\n",
              "      <td>dressup</td>\n",
              "      <td>1</td>\n",
              "    </tr>\n",
              "    <tr>\n",
              "      <th>285</th>\n",
              "      <td>無法陪伴對方而產生的罪惡感</td>\n",
              "      <td>relationship</td>\n",
              "      <td>7</td>\n",
              "    </tr>\n",
              "    <tr>\n",
              "      <th>485</th>\n",
              "      <td>大眾占卜 一週運勢(01/03-01/09)</td>\n",
              "      <td>tarot</td>\n",
              "      <td>9</td>\n",
              "    </tr>\n",
              "    <tr>\n",
              "      <th>482</th>\n",
              "      <td>#大眾占卜 塔羅星座周報2021.1.4-2021.1.10 ( 更新)</td>\n",
              "      <td>tarot</td>\n",
              "      <td>9</td>\n",
              "    </tr>\n",
              "  </tbody>\n",
              "</table>\n",
              "<p>1000 rows × 3 columns</p>\n",
              "</div>"
            ],
            "text/plain": [
              "                                    title         forum  label\n",
              "144                   calvin klein的皮帶如何？？       dressup      1\n",
              "833                       #問題 #問題 哪裡可以買砂紙    stationery      8\n",
              "270                              心裡的檻卡住了🥲  relationship      7\n",
              "468                #免費占卜 #免費八字 幫你卜一卦 第23篇         tarot      9\n",
              "962                        #有雷 拆彈專家2 中性評價         movie      4\n",
              "..                                    ...           ...    ...\n",
              "420                         塔羅牌義交流（花影&偉特）         tarot      9\n",
              "129      靴子怎麼挑？今年流行的妹子感及膝靴腿粗能穿嗎？掌握三點精準挑靴👢       dressup      1\n",
              "285                         無法陪伴對方而產生的罪惡感  relationship      7\n",
              "485                大眾占卜 一週運勢(01/03-01/09)         tarot      9\n",
              "482  #大眾占卜 塔羅星座周報2021.1.4-2021.1.10 ( 更新)         tarot      9\n",
              "\n",
              "[1000 rows x 3 columns]"
            ]
          },
          "metadata": {
            "tags": []
          },
          "execution_count": 3
        }
      ]
    },
    {
      "cell_type": "markdown",
      "metadata": {
        "id": "QYdgRIuPaHvh"
      },
      "source": [
        "## 模型定義"
      ]
    },
    {
      "cell_type": "code",
      "metadata": {
        "colab": {
          "base_uri": "https://localhost:8080/"
        },
        "id": "CZz3LGejE3cG",
        "outputId": "988e2fe2-1a4b-43bd-db09-42d2bd13e5f5"
      },
      "source": [
        "tokenizer = BertTokenizer.from_pretrained(\"bert-base-chinese\")\n",
        "model = BertForSequenceClassification.from_pretrained('bert-base-chinese', num_labels=len(label_enc.classes_))"
      ],
      "execution_count": null,
      "outputs": [
        {
          "output_type": "stream",
          "text": [
            "Some weights of the model checkpoint at bert-base-chinese were not used when initializing BertForSequenceClassification: ['cls.predictions.bias', 'cls.predictions.transform.dense.weight', 'cls.predictions.transform.dense.bias', 'cls.predictions.decoder.weight', 'cls.seq_relationship.weight', 'cls.seq_relationship.bias', 'cls.predictions.transform.LayerNorm.weight', 'cls.predictions.transform.LayerNorm.bias']\n",
            "- This IS expected if you are initializing BertForSequenceClassification from the checkpoint of a model trained on another task or with another architecture (e.g. initializing a BertForSequenceClassification model from a BertForPreTraining model).\n",
            "- This IS NOT expected if you are initializing BertForSequenceClassification from the checkpoint of a model that you expect to be exactly identical (initializing a BertForSequenceClassification model from a BertForSequenceClassification model).\n",
            "Some weights of BertForSequenceClassification were not initialized from the model checkpoint at bert-base-chinese and are newly initialized: ['classifier.weight', 'classifier.bias']\n",
            "You should probably TRAIN this model on a down-stream task to be able to use it for predictions and inference.\n"
          ],
          "name": "stderr"
        }
      ]
    },
    {
      "cell_type": "code",
      "metadata": {
        "colab": {
          "base_uri": "https://localhost:8080/"
        },
        "id": "-S2oddSnaNb-",
        "outputId": "365c5e83-0f7d-49b7-908b-6078c509f831"
      },
      "source": [
        "tokenizer([\"電影\", \"五月天\"], padding=True, return_tensors=\"pt\")"
      ],
      "execution_count": null,
      "outputs": [
        {
          "output_type": "execute_result",
          "data": {
            "text/plain": [
              "{'input_ids': tensor([[ 101, 7442, 2512,  102,    0],\n",
              "        [ 101,  758, 3299, 1921,  102]]), 'token_type_ids': tensor([[0, 0, 0, 0, 0],\n",
              "        [0, 0, 0, 0, 0]]), 'attention_mask': tensor([[1, 1, 1, 1, 0],\n",
              "        [1, 1, 1, 1, 1]])}"
            ]
          },
          "metadata": {
            "tags": []
          },
          "execution_count": 5
        }
      ]
    },
    {
      "cell_type": "markdown",
      "metadata": {
        "id": "XfpQ3ivwicmo"
      },
      "source": [
        "## 訓練迴圈"
      ]
    },
    {
      "cell_type": "code",
      "metadata": {
        "colab": {
          "base_uri": "https://localhost:8080/"
        },
        "id": "ulybNNPELbpe",
        "outputId": "2edaf884-fdf2-46f4-c10b-48138665bc28"
      },
      "source": [
        "batch_size = 16\n",
        "n_epoch = 5\n",
        "torch.manual_seed(12345)\n",
        "\n",
        "train = titles.iloc[:900]\n",
        "test = titles.iloc[900:]\n",
        "\n",
        "device = torch.device(\"cuda\") if torch.cuda.is_available() else torch.device(\"cpu\")\n",
        "model.to(device)\n",
        "model.train()\n",
        "\n",
        "loss_fn = torch.nn.CrossEntropyLoss()\n",
        "optimizer = torch.optim.AdamW(model.parameters(), lr=5e-5)\n",
        "\n",
        "loss_train = []\n",
        "acc_train = []\n",
        "acc_test = []\n",
        "\n",
        "for epoch_i in range(n_epoch):\n",
        "  loss_train_batch = []\n",
        "  acc_train_batch = []\n",
        "\n",
        "  for idx in range(0, train.shape[0], batch_size):\n",
        "    optimizer.zero_grad()\n",
        "    batch = train.iloc[idx:idx+batch_size]\n",
        "    X = tokenizer(batch.title.tolist(), padding=True, return_tensors=\"pt\").to(device)\n",
        "    y = torch.tensor(batch.label.tolist(), dtype=torch.long).to(device)\n",
        "    out = model(**X)\n",
        "    loss = loss_fn(out.logits, y)\n",
        "    loss.backward()\n",
        "    optimizer.step()\n",
        "\n",
        "    preds = out.logits.argmax(axis=1).detach().cpu().numpy()\n",
        "    acc = accuracy_score(y.cpu().numpy(), preds)\n",
        "    loss_train_batch.append(loss.detach().cpu().item())\n",
        "    acc_train_batch.append(acc)\n",
        "  \n",
        "  ## validation\n",
        "  acc_test_batch = []\n",
        "  ytrue_test = []\n",
        "  ypred_test = []\n",
        "  model.eval()\n",
        "  for idx in range(0, test.shape[0], batch_size):\n",
        "    batch = test.iloc[idx:idx+batch_size]\n",
        "    X = tokenizer(batch.title.tolist(), padding=True, return_tensors=\"pt\").to(device)\n",
        "    y = torch.tensor(batch.label.tolist(), dtype=torch.long).to(device)\n",
        "    out = model(**X)\n",
        "\n",
        "    preds = out.logits.argmax(axis=1).detach().cpu().numpy()\n",
        "    acc = accuracy_score(y.cpu().numpy(), preds)\n",
        "    acc_test_batch.append(acc)\n",
        "    ytrue_test.extend(y.cpu().numpy())\n",
        "    ypred_test.extend(preds)\n",
        "  loss_train.append(np.mean(loss_train_batch))\n",
        "  acc_train.append(np.mean(acc_train_batch))\n",
        "  acc_test.append(np.mean(acc_test_batch))\n",
        "  print(\"[Epoch {}] Train loss: {:.4f}, \".format(epoch_i, loss_train[-1]), end='')\n",
        "  print(\"Train Acc: {:.4f}, \".format(acc_train[-1]), end='')\n",
        "  print(\"Test Acc: {:.4f}, \".format(acc_test[-1]))\n",
        "\n",
        "  "
      ],
      "execution_count": null,
      "outputs": [
        {
          "output_type": "stream",
          "text": [
            "[Epoch 0] Train loss: 1.7040, Train Acc: 0.4781, Test Acc: 0.7857, \n",
            "[Epoch 1] Train loss: 0.6745, Train Acc: 0.7993, Test Acc: 0.7589, \n",
            "[Epoch 2] Train loss: 0.3209, Train Acc: 0.9057, Test Acc: 0.7768, \n",
            "[Epoch 3] Train loss: 0.1349, Train Acc: 0.9660, Test Acc: 0.8125, \n",
            "[Epoch 4] Train loss: 0.0555, Train Acc: 0.9890, Test Acc: 0.7857, \n"
          ],
          "name": "stdout"
        }
      ]
    },
    {
      "cell_type": "markdown",
      "metadata": {
        "id": "JiS5p_LfbuAV"
      },
      "source": [
        "## 混淆矩陣"
      ]
    },
    {
      "cell_type": "markdown",
      "metadata": {
        "id": "L0fYBlBlb1g8"
      },
      "source": [
        "Confusion matrix whose i-th row and j-th column entry indicates the number of samples with true label being i-th class and predicted label being j-th class."
      ]
    },
    {
      "cell_type": "code",
      "metadata": {
        "colab": {
          "base_uri": "https://localhost:8080/",
          "height": 373
        },
        "id": "lld9A5KiRtJB",
        "outputId": "2672c633-38e0-4f9d-ba15-46bf77366eec"
      },
      "source": [
        "confmat = confusion_matrix(ytrue_test, ypred_test)\n",
        "conf = pd.DataFrame(confmat, index=label_enc.classes_, columns=label_enc.classes_)\n",
        "row_sum = conf.sum(0)\n",
        "row_sum.name = \"pred_sum\"\n",
        "conf = conf.append(row_sum)\n",
        "conf[\"label_sum\"] = conf.sum(axis=1)\n",
        "conf"
      ],
      "execution_count": null,
      "outputs": [
        {
          "output_type": "execute_result",
          "data": {
            "text/html": [
              "<div>\n",
              "<style scoped>\n",
              "    .dataframe tbody tr th:only-of-type {\n",
              "        vertical-align: middle;\n",
              "    }\n",
              "\n",
              "    .dataframe tbody tr th {\n",
              "        vertical-align: top;\n",
              "    }\n",
              "\n",
              "    .dataframe thead th {\n",
              "        text-align: right;\n",
              "    }\n",
              "</style>\n",
              "<table border=\"1\" class=\"dataframe\">\n",
              "  <thead>\n",
              "    <tr style=\"text-align: right;\">\n",
              "      <th></th>\n",
              "      <th>boy</th>\n",
              "      <th>dressup</th>\n",
              "      <th>girl</th>\n",
              "      <th>makeup</th>\n",
              "      <th>movie</th>\n",
              "      <th>music</th>\n",
              "      <th>psychology</th>\n",
              "      <th>relationship</th>\n",
              "      <th>stationery</th>\n",
              "      <th>tarot</th>\n",
              "      <th>label_sum</th>\n",
              "    </tr>\n",
              "  </thead>\n",
              "  <tbody>\n",
              "    <tr>\n",
              "      <th>boy</th>\n",
              "      <td>5</td>\n",
              "      <td>0</td>\n",
              "      <td>1</td>\n",
              "      <td>0</td>\n",
              "      <td>0</td>\n",
              "      <td>0</td>\n",
              "      <td>0</td>\n",
              "      <td>1</td>\n",
              "      <td>0</td>\n",
              "      <td>0</td>\n",
              "      <td>7</td>\n",
              "    </tr>\n",
              "    <tr>\n",
              "      <th>dressup</th>\n",
              "      <td>0</td>\n",
              "      <td>8</td>\n",
              "      <td>1</td>\n",
              "      <td>0</td>\n",
              "      <td>1</td>\n",
              "      <td>0</td>\n",
              "      <td>1</td>\n",
              "      <td>0</td>\n",
              "      <td>0</td>\n",
              "      <td>0</td>\n",
              "      <td>11</td>\n",
              "    </tr>\n",
              "    <tr>\n",
              "      <th>girl</th>\n",
              "      <td>0</td>\n",
              "      <td>1</td>\n",
              "      <td>3</td>\n",
              "      <td>1</td>\n",
              "      <td>1</td>\n",
              "      <td>1</td>\n",
              "      <td>0</td>\n",
              "      <td>2</td>\n",
              "      <td>0</td>\n",
              "      <td>0</td>\n",
              "      <td>9</td>\n",
              "    </tr>\n",
              "    <tr>\n",
              "      <th>makeup</th>\n",
              "      <td>0</td>\n",
              "      <td>0</td>\n",
              "      <td>1</td>\n",
              "      <td>13</td>\n",
              "      <td>0</td>\n",
              "      <td>1</td>\n",
              "      <td>0</td>\n",
              "      <td>0</td>\n",
              "      <td>0</td>\n",
              "      <td>0</td>\n",
              "      <td>15</td>\n",
              "    </tr>\n",
              "    <tr>\n",
              "      <th>movie</th>\n",
              "      <td>0</td>\n",
              "      <td>0</td>\n",
              "      <td>1</td>\n",
              "      <td>0</td>\n",
              "      <td>4</td>\n",
              "      <td>0</td>\n",
              "      <td>0</td>\n",
              "      <td>1</td>\n",
              "      <td>0</td>\n",
              "      <td>0</td>\n",
              "      <td>6</td>\n",
              "    </tr>\n",
              "    <tr>\n",
              "      <th>music</th>\n",
              "      <td>1</td>\n",
              "      <td>0</td>\n",
              "      <td>1</td>\n",
              "      <td>0</td>\n",
              "      <td>1</td>\n",
              "      <td>9</td>\n",
              "      <td>0</td>\n",
              "      <td>0</td>\n",
              "      <td>0</td>\n",
              "      <td>0</td>\n",
              "      <td>12</td>\n",
              "    </tr>\n",
              "    <tr>\n",
              "      <th>psychology</th>\n",
              "      <td>0</td>\n",
              "      <td>0</td>\n",
              "      <td>0</td>\n",
              "      <td>0</td>\n",
              "      <td>0</td>\n",
              "      <td>0</td>\n",
              "      <td>13</td>\n",
              "      <td>0</td>\n",
              "      <td>0</td>\n",
              "      <td>0</td>\n",
              "      <td>13</td>\n",
              "    </tr>\n",
              "    <tr>\n",
              "      <th>relationship</th>\n",
              "      <td>1</td>\n",
              "      <td>0</td>\n",
              "      <td>2</td>\n",
              "      <td>0</td>\n",
              "      <td>0</td>\n",
              "      <td>0</td>\n",
              "      <td>0</td>\n",
              "      <td>8</td>\n",
              "      <td>0</td>\n",
              "      <td>1</td>\n",
              "      <td>12</td>\n",
              "    </tr>\n",
              "    <tr>\n",
              "      <th>stationery</th>\n",
              "      <td>0</td>\n",
              "      <td>0</td>\n",
              "      <td>0</td>\n",
              "      <td>0</td>\n",
              "      <td>0</td>\n",
              "      <td>0</td>\n",
              "      <td>0</td>\n",
              "      <td>0</td>\n",
              "      <td>7</td>\n",
              "      <td>0</td>\n",
              "      <td>7</td>\n",
              "    </tr>\n",
              "    <tr>\n",
              "      <th>tarot</th>\n",
              "      <td>0</td>\n",
              "      <td>0</td>\n",
              "      <td>0</td>\n",
              "      <td>0</td>\n",
              "      <td>0</td>\n",
              "      <td>0</td>\n",
              "      <td>1</td>\n",
              "      <td>1</td>\n",
              "      <td>0</td>\n",
              "      <td>6</td>\n",
              "      <td>8</td>\n",
              "    </tr>\n",
              "    <tr>\n",
              "      <th>pred_sum</th>\n",
              "      <td>7</td>\n",
              "      <td>9</td>\n",
              "      <td>10</td>\n",
              "      <td>14</td>\n",
              "      <td>7</td>\n",
              "      <td>11</td>\n",
              "      <td>15</td>\n",
              "      <td>13</td>\n",
              "      <td>7</td>\n",
              "      <td>7</td>\n",
              "      <td>100</td>\n",
              "    </tr>\n",
              "  </tbody>\n",
              "</table>\n",
              "</div>"
            ],
            "text/plain": [
              "              boy  dressup  girl  ...  stationery  tarot  label_sum\n",
              "boy             5        0     1  ...           0      0          7\n",
              "dressup         0        8     1  ...           0      0         11\n",
              "girl            0        1     3  ...           0      0          9\n",
              "makeup          0        0     1  ...           0      0         15\n",
              "movie           0        0     1  ...           0      0          6\n",
              "music           1        0     1  ...           0      0         12\n",
              "psychology      0        0     0  ...           0      0         13\n",
              "relationship    1        0     2  ...           0      1         12\n",
              "stationery      0        0     0  ...           7      0          7\n",
              "tarot           0        0     0  ...           0      6          8\n",
              "pred_sum        7        9    10  ...           7      7        100\n",
              "\n",
              "[11 rows x 11 columns]"
            ]
          },
          "metadata": {
            "tags": []
          },
          "execution_count": 7
        }
      ]
    },
    {
      "cell_type": "markdown",
      "metadata": {
        "id": "IGtz93wDakEL"
      },
      "source": [
        "## 預測/推論"
      ]
    },
    {
      "cell_type": "code",
      "metadata": {
        "id": "Q8U7gsmyKeyC"
      },
      "source": [
        "def predict(text):\n",
        "  X = tokenizer([text], padding=True, return_tensors=\"pt\").to(device)\n",
        "  out = model(**X)\n",
        "\n",
        "  probs = out.logits\n",
        "  preds = probs.argmax(axis=1).detach().cpu().numpy()\n",
        "  probs = probs.softmax(axis=1).squeeze().detach().cpu().numpy()\n",
        "\n",
        "  plt.figure(facecolor=\"white\")\n",
        "  xs = np.arange(len(label_enc.classes_))\n",
        "  plt.bar(xs, height=probs)\n",
        "  plt.xticks(xs, labels=label_enc.classes_, rotation=45)\n",
        "  return label_enc.inverse_transform(preds)[0]"
      ],
      "execution_count": null,
      "outputs": []
    },
    {
      "cell_type": "code",
      "metadata": {
        "colab": {
          "base_uri": "https://localhost:8080/",
          "height": 304
        },
        "id": "L2JqmOvmPsap",
        "outputId": "e7fd1b0d-a613-43d2-a476-5150304cd2f3"
      },
      "source": [
        "prob = predict(\"靈魂急轉彎好看嗎\")"
      ],
      "execution_count": null,
      "outputs": [
        {
          "output_type": "display_data",
          "data": {
            "image/png": "[encoded data removed]",
            "text/plain": [
              "<Figure size 432x288 with 1 Axes>"
            ]
          },
          "metadata": {
            "tags": []
          }
        }
      ]
    },
    {
      "cell_type": "code",
      "metadata": {
        "colab": {
          "base_uri": "https://localhost:8080/",
          "height": 322
        },
        "id": "oNno7ct3edhA",
        "outputId": "248136bd-8c82-4674-b0d4-166ecb108e18"
      },
      "source": [
        "predict(\"所有感情問題都建議分手\")"
      ],
      "execution_count": null,
      "outputs": [
        {
          "output_type": "execute_result",
          "data": {
            "application/vnd.google.colaboratory.intrinsic+json": {
              "type": "string"
            },
            "text/plain": [
              "'relationship'"
            ]
          },
          "metadata": {
            "tags": []
          },
          "execution_count": 10
        },
        {
          "output_type": "display_data",
          "data": {
            "image/png": "[encoded data removed]",
            "text/plain": [
              "<Figure size 432x288 with 1 Axes>"
            ]
          },
          "metadata": {
            "tags": []
          }
        }
      ]
    },
    {
      "cell_type": "code",
      "metadata": {
        "colab": {
          "base_uri": "https://localhost:8080/",
          "height": 322
        },
        "id": "BiwTo-_4elQb",
        "outputId": "b8affacc-ed76-4c7c-9988-35f50c7d990d"
      },
      "source": [
        "predict(\"五月天和蘇打綠\")"
      ],
      "execution_count": null,
      "outputs": [
        {
          "output_type": "execute_result",
          "data": {
            "application/vnd.google.colaboratory.intrinsic+json": {
              "type": "string"
            },
            "text/plain": [
              "'music'"
            ]
          },
          "metadata": {
            "tags": []
          },
          "execution_count": 11
        },
        {
          "output_type": "display_data",
          "data": {
            "image/png": "[encoded data removed]",
            "text/plain": [
              "<Figure size 432x288 with 1 Axes>"
            ]
          },
          "metadata": {
            "tags": []
          }
        }
      ]
    },
    {
      "cell_type": "code",
      "metadata": {
        "id": "8EO-EtW9erGA"
      },
      "source": [
        ""
      ],
      "execution_count": null,
      "outputs": []
    }
  ]
}