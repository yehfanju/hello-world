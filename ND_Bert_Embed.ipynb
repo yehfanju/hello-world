{
  "nbformat": 4,
  "nbformat_minor": 0,
  "metadata": {
    "colab": {
      "name": "ND-Bert-Embed.ipynb",
      "provenance": [],
      "collapsed_sections": [],
      "include_colab_link": true
    },
    "kernelspec": {
      "name": "python3",
      "display_name": "Python 3"
    },
    "widgets": {
      "application/vnd.jupyter.widget-state+json": {
        "940813b7891e43e0ad14d94142054328": {
          "model_module": "@jupyter-widgets/controls",
          "model_name": "HBoxModel",
          "state": {
            "_view_name": "HBoxView",
            "_dom_classes": [],
            "_model_name": "HBoxModel",
            "_view_module": "@jupyter-widgets/controls",
            "_model_module_version": "1.5.0",
            "_view_count": null,
            "_view_module_version": "1.5.0",
            "box_style": "",
            "layout": "IPY_MODEL_b8bd2f71402d42d4a48bdeffe2201816",
            "_model_module": "@jupyter-widgets/controls",
            "children": [
              "IPY_MODEL_9a6411afa824485d835d1afa8a2239dd",
              "IPY_MODEL_6d31a6706ed246c497441841fe03faa2"
            ]
          }
        },
        "b8bd2f71402d42d4a48bdeffe2201816": {
          "model_module": "@jupyter-widgets/base",
          "model_name": "LayoutModel",
          "state": {
            "_view_name": "LayoutView",
            "grid_template_rows": null,
            "right": null,
            "justify_content": null,
            "_view_module": "@jupyter-widgets/base",
            "overflow": null,
            "_model_module_version": "1.2.0",
            "_view_count": null,
            "flex_flow": null,
            "width": null,
            "min_width": null,
            "border": null,
            "align_items": null,
            "bottom": null,
            "_model_module": "@jupyter-widgets/base",
            "top": null,
            "grid_column": null,
            "overflow_y": null,
            "overflow_x": null,
            "grid_auto_flow": null,
            "grid_area": null,
            "grid_template_columns": null,
            "flex": null,
            "_model_name": "LayoutModel",
            "justify_items": null,
            "grid_row": null,
            "max_height": null,
            "align_content": null,
            "visibility": null,
            "align_self": null,
            "height": null,
            "min_height": null,
            "padding": null,
            "grid_auto_rows": null,
            "grid_gap": null,
            "max_width": null,
            "order": null,
            "_view_module_version": "1.2.0",
            "grid_template_areas": null,
            "object_position": null,
            "object_fit": null,
            "grid_auto_columns": null,
            "margin": null,
            "display": null,
            "left": null
          }
        },
        "9a6411afa824485d835d1afa8a2239dd": {
          "model_module": "@jupyter-widgets/controls",
          "model_name": "FloatProgressModel",
          "state": {
            "_view_name": "ProgressView",
            "style": "IPY_MODEL_01280ef161234c5dab249f3cc55a4abe",
            "_dom_classes": [],
            "description": "100%",
            "_model_name": "FloatProgressModel",
            "bar_style": "success",
            "max": 300,
            "_view_module": "@jupyter-widgets/controls",
            "_model_module_version": "1.5.0",
            "value": 300,
            "_view_count": null,
            "_view_module_version": "1.5.0",
            "orientation": "horizontal",
            "min": 0,
            "description_tooltip": null,
            "_model_module": "@jupyter-widgets/controls",
            "layout": "IPY_MODEL_ac1d6dd4c47042638d77c4550ef97996"
          }
        },
        "6d31a6706ed246c497441841fe03faa2": {
          "model_module": "@jupyter-widgets/controls",
          "model_name": "HTMLModel",
          "state": {
            "_view_name": "HTMLView",
            "style": "IPY_MODEL_20bf449928a9477b84464be0ab95bb9f",
            "_dom_classes": [],
            "description": "",
            "_model_name": "HTMLModel",
            "placeholder": "​",
            "_view_module": "@jupyter-widgets/controls",
            "_model_module_version": "1.5.0",
            "value": " 300/300 [00:00&lt;00:00, 301.78it/s]",
            "_view_count": null,
            "_view_module_version": "1.5.0",
            "description_tooltip": null,
            "_model_module": "@jupyter-widgets/controls",
            "layout": "IPY_MODEL_9d98caa477aa48968e1136808e9e16f2"
          }
        },
        "01280ef161234c5dab249f3cc55a4abe": {
          "model_module": "@jupyter-widgets/controls",
          "model_name": "ProgressStyleModel",
          "state": {
            "_view_name": "StyleView",
            "_model_name": "ProgressStyleModel",
            "description_width": "initial",
            "_view_module": "@jupyter-widgets/base",
            "_model_module_version": "1.5.0",
            "_view_count": null,
            "_view_module_version": "1.2.0",
            "bar_color": null,
            "_model_module": "@jupyter-widgets/controls"
          }
        },
        "ac1d6dd4c47042638d77c4550ef97996": {
          "model_module": "@jupyter-widgets/base",
          "model_name": "LayoutModel",
          "state": {
            "_view_name": "LayoutView",
            "grid_template_rows": null,
            "right": null,
            "justify_content": null,
            "_view_module": "@jupyter-widgets/base",
            "overflow": null,
            "_model_module_version": "1.2.0",
            "_view_count": null,
            "flex_flow": null,
            "width": null,
            "min_width": null,
            "border": null,
            "align_items": null,
            "bottom": null,
            "_model_module": "@jupyter-widgets/base",
            "top": null,
            "grid_column": null,
            "overflow_y": null,
            "overflow_x": null,
            "grid_auto_flow": null,
            "grid_area": null,
            "grid_template_columns": null,
            "flex": null,
            "_model_name": "LayoutModel",
            "justify_items": null,
            "grid_row": null,
            "max_height": null,
            "align_content": null,
            "visibility": null,
            "align_self": null,
            "height": null,
            "min_height": null,
            "padding": null,
            "grid_auto_rows": null,
            "grid_gap": null,
            "max_width": null,
            "order": null,
            "_view_module_version": "1.2.0",
            "grid_template_areas": null,
            "object_position": null,
            "object_fit": null,
            "grid_auto_columns": null,
            "margin": null,
            "display": null,
            "left": null
          }
        },
        "20bf449928a9477b84464be0ab95bb9f": {
          "model_module": "@jupyter-widgets/controls",
          "model_name": "DescriptionStyleModel",
          "state": {
            "_view_name": "StyleView",
            "_model_name": "DescriptionStyleModel",
            "description_width": "",
            "_view_module": "@jupyter-widgets/base",
            "_model_module_version": "1.5.0",
            "_view_count": null,
            "_view_module_version": "1.2.0",
            "_model_module": "@jupyter-widgets/controls"
          }
        },
        "9d98caa477aa48968e1136808e9e16f2": {
          "model_module": "@jupyter-widgets/base",
          "model_name": "LayoutModel",
          "state": {
            "_view_name": "LayoutView",
            "grid_template_rows": null,
            "right": null,
            "justify_content": null,
            "_view_module": "@jupyter-widgets/base",
            "overflow": null,
            "_model_module_version": "1.2.0",
            "_view_count": null,
            "flex_flow": null,
            "width": null,
            "min_width": null,
            "border": null,
            "align_items": null,
            "bottom": null,
            "_model_module": "@jupyter-widgets/base",
            "top": null,
            "grid_column": null,
            "overflow_y": null,
            "overflow_x": null,
            "grid_auto_flow": null,
            "grid_area": null,
            "grid_template_columns": null,
            "flex": null,
            "_model_name": "LayoutModel",
            "justify_items": null,
            "grid_row": null,
            "max_height": null,
            "align_content": null,
            "visibility": null,
            "align_self": null,
            "height": null,
            "min_height": null,
            "padding": null,
            "grid_auto_rows": null,
            "grid_gap": null,
            "max_width": null,
            "order": null,
            "_view_module_version": "1.2.0",
            "grid_template_areas": null,
            "object_position": null,
            "object_fit": null,
            "grid_auto_columns": null,
            "margin": null,
            "display": null,
            "left": null
          }
        }
      }
    }
  },
  "cells": [
    {
      "cell_type": "markdown",
      "metadata": {
        "id": "view-in-github",
        "colab_type": "text"
      },
      "source": [
        "<a href=\"https://colab.research.google.com/github/yehfanju/hello-world/blob/master/ND_Bert_Embed.ipynb\" target=\"_parent\"><img src=\"https://colab.research.google.com/assets/colab-badge.svg\" alt=\"Open In Colab\"/></a>"
      ]
    },
    {
      "cell_type": "markdown",
      "metadata": {
        "id": "FYXrQiuWbGKg"
      },
      "source": [
        "# 簡單情緒極度分類"
      ]
    },
    {
      "cell_type": "code",
      "metadata": {
        "id": "2vXnT0Fjamz4"
      },
      "source": [
        "import torch\r\n",
        "import torch.nn as nn\r\n",
        "import numpy as np\r\n",
        "from matplotlib import pyplot as plt\r\n",
        "from tqdm.auto import tqdm\r\n",
        "from itertools import chain, product\r\n",
        "from sklearn.preprocessing import LabelEncoder\r\n",
        "from sklearn.metrics import accuracy_score\r\n",
        "import pandas as pd\r\n",
        "import random\r\n",
        "random.seed(1234)"
      ],
      "execution_count": null,
      "outputs": []
    },
    {
      "cell_type": "markdown",
      "metadata": {
        "id": "kTbYBLVRbloV"
      },
      "source": [
        "## 詞彙列表"
      ]
    },
    {
      "cell_type": "code",
      "metadata": {
        "id": "SM1eufqbbCJ9"
      },
      "source": [
        "hao = \"好吃 好看 好玩 好聽 好用\".split()\r\n",
        "nann = \"難吃 難看 難過 難聽 難用\".split()\r\n",
        "nouns = \"音樂 遊戲 作業 單車 電影\".split()\r\n",
        "places = \"學校 公園 餐廳 路口 台北\".split()"
      ],
      "execution_count": null,
      "outputs": []
    },
    {
      "cell_type": "code",
      "metadata": {
        "id": "Ht6LCv4Xcu43"
      },
      "source": [
        "word_enc = LabelEncoder()\r\n",
        "word_list = hao + nann + nouns + places\r\n",
        "word_ids = word_enc.fit_transform(word_list)\r\n",
        "word_groups = {}\r\n",
        "for w in word_enc.classes_:\r\n",
        "  if w in hao: c=\"#6666FF\"; g=(\"hao\", 0)\r\n",
        "  elif w in nann: c=\"#FF6666\"; g=(\"nann\", 1)  \r\n",
        "  elif w in nouns: g = (\"noun\", 2)\r\n",
        "  elif w in places: g = (\"places\", 3)\r\n",
        "  word_groups[w] = g\r\n",
        "  # word_colors.append(c)\r\n",
        "word_labels = [word_groups[w][1] for w in word_list]"
      ],
      "execution_count": null,
      "outputs": []
    },
    {
      "cell_type": "markdown",
      "metadata": {
        "id": "BslngRbvbokN"
      },
      "source": [
        "## 詞彙嵌入表徵"
      ]
    },
    {
      "cell_type": "markdown",
      "metadata": {
        "id": "EMMphS4Fb30s"
      },
      "source": [
        "### 預訓練分類模型"
      ]
    },
    {
      "cell_type": "code",
      "metadata": {
        "id": "WHqO-opue93w"
      },
      "source": [
        "class WordClassifier(nn.Module):\r\n",
        "  def __init__(self, V, dim):\r\n",
        "    super(WordClassifier, self).__init__()\r\n",
        "    self.emb = nn.Embedding(V, dim)\r\n",
        "    self.classifier = nn.Linear(dim, 4)\r\n",
        "  \r\n",
        "  def get_word_embeddings(self):\r\n",
        "    return self.emb.weight\r\n",
        "    \r\n",
        "  def forward(self, X):\r\n",
        "    vec = self.emb(X)\r\n",
        "    out = self.classifier(vec)\r\n",
        "    return out"
      ],
      "execution_count": null,
      "outputs": []
    },
    {
      "cell_type": "markdown",
      "metadata": {
        "id": "dkbBLkN1b94q"
      },
      "source": [
        "### 訓練迴圈"
      ]
    },
    {
      "cell_type": "code",
      "metadata": {
        "id": "6P78_L8Vhuho",
        "colab": {
          "base_uri": "https://localhost:8080/",
          "height": 284
        },
        "outputId": "3c15b820-9f6c-4da7-8daf-719e39564649"
      },
      "source": [
        "torch.manual_seed(1234)\r\n",
        "model = WordClassifier(len(word_enc.classes_), 2)\r\n",
        "loss_fn = torch.nn.CrossEntropyLoss()\r\n",
        "optimizer = torch.optim.AdamW(model.parameters(), lr=1e-2)\r\n",
        "init_emb = model.get_word_embeddings().clone().detach().numpy()\r\n",
        "\r\n",
        "loss_vec = []\r\n",
        "acc_vec = []\r\n",
        "X = torch.tensor(word_ids)\r\n",
        "y = torch.tensor(word_labels)\r\n",
        "for _ in range(300):\r\n",
        "  optimizer.zero_grad()\r\n",
        "  preds = model(X).squeeze()\r\n",
        "  loss = loss_fn(preds, y)\r\n",
        "  \r\n",
        "  loss.backward()\r\n",
        "  optimizer.step()\r\n",
        "\r\n",
        "  loss_vec.append(loss.item())\r\n",
        "  acc_vec.append(accuracy_score(word_labels, preds.argmax(axis=1).detach().numpy()))\r\n",
        "\r\n",
        "fig, axes = plt.subplots(1, 2, facecolor=\"white\")\r\n",
        "axes[0].plot(loss_vec)\r\n",
        "axes[1].plot(acc_vec)"
      ],
      "execution_count": null,
      "outputs": [
        {
          "output_type": "execute_result",
          "data": {
            "text/plain": [
              "[<matplotlib.lines.Line2D at 0x7faf397b3da0>]"
            ]
          },
          "metadata": {
            "tags": []
          },
          "execution_count": 5
        },
        {
          "output_type": "display_data",
          "data": {
            "image/png": "[encoded data removed]",
            "text/plain": [
              "<Figure size 432x288 with 2 Axes>"
            ]
          },
          "metadata": {
            "tags": []
          }
        }
      ]
    },
    {
      "cell_type": "markdown",
      "metadata": {
        "id": "9S63Q48abymn"
      },
      "source": [
        "### 視覺化嵌入表徵"
      ]
    },
    {
      "cell_type": "code",
      "metadata": {
        "id": "ybArQGfC74vf"
      },
      "source": [
        "def visualize_boundary(emb, group_ids, func):\r\n",
        "  x1min, x2min = np.min(emb, axis=0) - 0.5\r\n",
        "  x1max, x2max = np.max(emb, axis=0) + 0.5\r\n",
        "  xx, yy = np.meshgrid(np.arange(x1min, x1max, 0.05), np.arange(x2min, x2max, 0.05))\r\n",
        "  newX = np.hstack([\r\n",
        "        xx.flatten().reshape(xx.size, 1),\r\n",
        "        yy.flatten().reshape(yy.size, 1)])\r\n",
        "  new_out = func(torch.tensor(newX, dtype=torch.float))\r\n",
        "  new_cat = torch.softmax(new_out, axis=1).argmax(axis=1).detach().numpy()\r\n",
        "  zz = new_cat.reshape(xx.shape)    \r\n",
        "  plt.contourf(xx, yy, zz, cmap=\"coolwarm\")\r\n",
        "  scatter = plt.scatter(emb[:, 0], emb[:, 1], c=group_ids)    \r\n",
        "  legend1 = plt.gca().legend(*scatter.legend_elements(),\r\n",
        "                    loc=\"lower left\", title=\"Classes\")\r\n",
        "  plt.gca().add_artist(legend1)"
      ],
      "execution_count": null,
      "outputs": []
    },
    {
      "cell_type": "code",
      "metadata": {
        "colab": {
          "base_uri": "https://localhost:8080/",
          "height": 265
        },
        "id": "jsCWYdw4l5_Z",
        "outputId": "2e744111-f7de-44c7-c75e-f815700bd52f"
      },
      "source": [
        "word_group_ids = [word_groups[w][1] for w in word_enc.classes_]\r\n",
        "visualize_boundary(init_emb, word_group_ids, lambda x: torch.zeros_like(x))"
      ],
      "execution_count": null,
      "outputs": [
        {
          "output_type": "display_data",
          "data": {
            "image/png": "[encoded data removed]",
            "text/plain": [
              "<Figure size 432x288 with 1 Axes>"
            ]
          },
          "metadata": {
            "tags": [],
            "needs_background": "light"
          }
        }
      ]
    },
    {
      "cell_type": "code",
      "metadata": {
        "colab": {
          "base_uri": "https://localhost:8080/",
          "height": 265
        },
        "id": "dQf7DlM0jL8t",
        "outputId": "5fa4d1fa-0c74-4eba-efa3-0aa74a9f06cf"
      },
      "source": [
        "word_embs = model.emb.weight.detach().numpy()\r\n",
        "word_group_ids = [word_groups[w][1] for w in word_enc.classes_]\r\n",
        "visualize_boundary(word_embs, word_group_ids, model.classifier)"
      ],
      "execution_count": null,
      "outputs": [
        {
          "output_type": "display_data",
          "data": {
            "image/png": "[encoded data removed]",
            "text/plain": [
              "<Figure size 432x288 with 1 Axes>"
            ]
          },
          "metadata": {
            "tags": [],
            "needs_background": "light"
          }
        }
      ]
    },
    {
      "cell_type": "markdown",
      "metadata": {
        "id": "NE9E8EE-jwtf"
      },
      "source": [
        "## 判斷詞彙序列的情緒極度"
      ]
    },
    {
      "cell_type": "markdown",
      "metadata": {
        "id": "guDJsiRScN43"
      },
      "source": [
        "### 資料前處裡"
      ]
    },
    {
      "cell_type": "code",
      "metadata": {
        "id": "VYFfyC4tmFMd"
      },
      "source": [
        "seqs_words = []\r\n",
        "seqs_ids = []\r\n",
        "seqs_labels = []\r\n",
        "seq_gen = chain(product(hao+nann, nouns, places))                \r\n",
        "for x in seq_gen:\r\n",
        "  y = list(x)\r\n",
        "  random.shuffle(y)\r\n",
        "  seqs_words.append(y)\r\n",
        "  seqs_ids.append(word_enc.transform(y))\r\n",
        "  seqs_labels.append(1 if x[0] in hao else 0)"
      ],
      "execution_count": null,
      "outputs": []
    },
    {
      "cell_type": "code",
      "metadata": {
        "colab": {
          "base_uri": "https://localhost:8080/"
        },
        "id": "pghbG8w8tM-c",
        "outputId": "f5c70584-b51a-4404-c9b8-727dd4aeb2d7"
      },
      "source": [
        "# 輸入資料的維度是 250(序列數目) x 3(每個序列的詞彙個數) x 2(嵌入表徵的維度)\r\n",
        "model.emb(torch.tensor(seqs_ids)).shape"
      ],
      "execution_count": null,
      "outputs": [
        {
          "output_type": "execute_result",
          "data": {
            "text/plain": [
              "torch.Size([250, 3, 2])"
            ]
          },
          "metadata": {
            "tags": []
          },
          "execution_count": 10
        }
      ]
    },
    {
      "cell_type": "code",
      "metadata": {
        "colab": {
          "base_uri": "https://localhost:8080/"
        },
        "id": "QerPawr-H_ta",
        "outputId": "01c8d3ae-cef5-41fc-8142-55ff72ce057e"
      },
      "source": [
        "ss = list(zip(seqs_words, seqs_labels))\r\n",
        "random.shuffle(ss)\r\n",
        "for a, b in ss[:10]:\r\n",
        "  print(\" \".join(a),b)"
      ],
      "execution_count": null,
      "outputs": [
        {
          "output_type": "stream",
          "text": [
            "好用 作業 公園 1\n",
            "難用 學校 音樂 0\n",
            "好用 單車 公園 1\n",
            "學校 單車 好看 1\n",
            "好吃 作業 路口 1\n",
            "作業 難過 路口 0\n",
            "作業 難過 學校 0\n",
            "難聽 餐廳 遊戲 0\n",
            "難過 台北 音樂 0\n",
            "單車 好聽 公園 1\n"
          ],
          "name": "stdout"
        }
      ]
    },
    {
      "cell_type": "markdown",
      "metadata": {
        "id": "t23-iu4ucd51"
      },
      "source": [
        "### 定義模型"
      ]
    },
    {
      "cell_type": "code",
      "metadata": {
        "id": "m89IqF3htWcO"
      },
      "source": [
        "class WordSeqPolarity(nn.Module):\r\n",
        "  def __init__(self, emb):\r\n",
        "    super(WordSeqPolarity, self).__init__()\r\n",
        "    self.emb = nn.Embedding.from_pretrained(emb, freeze=True)\r\n",
        "    dim = self.emb.embedding_dim\r\n",
        "    self.classifier = nn.Linear(dim, 1)    \r\n",
        "    self.att1 = nn.Linear(dim, 4)\r\n",
        "    self.att2 = nn.Linear(4, 1)\r\n",
        "\r\n",
        "  def get_attention_weights(self, Xemb, softmax=True):\r\n",
        "    a1 = torch.tanh(self.att1(Xemb))\r\n",
        "    a2 = self.att2(a1)\r\n",
        "    if softmax:\r\n",
        "      score = a2.softmax(axis=1)\r\n",
        "    else:\r\n",
        "      score = a2\r\n",
        "    return score\r\n",
        "    \r\n",
        "  def forward(self, X):    \r\n",
        "    vec = self.emb(X)\r\n",
        "    # att_score: batch_size x 1 x seq_len    \r\n",
        "    att_score = self.get_attention_weights(vec).transpose(1, 2)\r\n",
        "    ctx_vec = torch.bmm(att_score, vec).squeeze()                \r\n",
        "    out = torch.sigmoid(self.classifier(ctx_vec))        \r\n",
        "    return out, att_score"
      ],
      "execution_count": null,
      "outputs": []
    },
    {
      "cell_type": "markdown",
      "metadata": {
        "id": "LZ7dXAShcl3-"
      },
      "source": [
        "### 訓練迴圈"
      ]
    },
    {
      "cell_type": "code",
      "metadata": {
        "colab": {
          "base_uri": "https://localhost:8080/",
          "height": 330,
          "referenced_widgets": [
            "940813b7891e43e0ad14d94142054328",
            "b8bd2f71402d42d4a48bdeffe2201816",
            "9a6411afa824485d835d1afa8a2239dd",
            "6d31a6706ed246c497441841fe03faa2",
            "01280ef161234c5dab249f3cc55a4abe",
            "ac1d6dd4c47042638d77c4550ef97996",
            "20bf449928a9477b84464be0ab95bb9f",
            "9d98caa477aa48968e1136808e9e16f2"
          ]
        },
        "id": "Dmav0Nd9vmzC",
        "outputId": "cad6a498-9ded-43a4-9562-04f8f52c9d3e"
      },
      "source": [
        "torch.manual_seed(12345)\r\n",
        "amodel = WordSeqPolarity(model.emb.weight)\r\n",
        "loss_fn = torch.nn.BCELoss()\r\n",
        "optimizer = torch.optim.AdamW(amodel.parameters(), lr=1e-1)\r\n",
        "loss_vec = []\r\n",
        "acc_vec = []\r\n",
        "\r\n",
        "for _ in tqdm(range(300)):  \r\n",
        "  optimizer.zero_grad()\r\n",
        "  preds, att_score = amodel(torch.tensor(seqs_ids))\r\n",
        "  preds = preds.squeeze()\r\n",
        "  loss = loss_fn(preds, torch.tensor(seqs_labels, dtype=torch.float))\r\n",
        "\r\n",
        "  loss.backward()\r\n",
        "  optimizer.step()\r\n",
        "\r\n",
        "  loss_vec.append(loss.item())\r\n",
        "  acc_vec.append(accuracy_score(seqs_labels, (preds > 0.5).long()))\r\n",
        "\r\n",
        "fig, axes = plt.subplots(1, 2)\r\n",
        "axes[0].plot(loss_vec)\r\n",
        "axes[1].plot(acc_vec)"
      ],
      "execution_count": null,
      "outputs": [
        {
          "output_type": "display_data",
          "data": {
            "application/vnd.jupyter.widget-view+json": {
              "model_id": "940813b7891e43e0ad14d94142054328",
              "version_minor": 0,
              "version_major": 2
            },
            "text/plain": [
              "HBox(children=(FloatProgress(value=0.0, max=300.0), HTML(value='')))"
            ]
          },
          "metadata": {
            "tags": []
          }
        },
        {
          "output_type": "stream",
          "text": [
            "\n"
          ],
          "name": "stdout"
        },
        {
          "output_type": "execute_result",
          "data": {
            "text/plain": [
              "[<matplotlib.lines.Line2D at 0x7faf38650da0>]"
            ]
          },
          "metadata": {
            "tags": []
          },
          "execution_count": 13
        },
        {
          "output_type": "display_data",
          "data": {
            "image/png": "[encoded data removed]",
            "text/plain": [
              "<Figure size 432x288 with 2 Axes>"
            ]
          },
          "metadata": {
            "tags": [],
            "needs_background": "light"
          }
        }
      ]
    },
    {
      "cell_type": "code",
      "metadata": {
        "id": "SVamr182voN7"
      },
      "source": [
        ""
      ],
      "execution_count": null,
      "outputs": []
    },
    {
      "cell_type": "markdown",
      "metadata": {
        "id": "uFUu2Aoyc82g"
      },
      "source": [
        "### 視覺化注意力分數"
      ]
    },
    {
      "cell_type": "code",
      "metadata": {
        "id": "ddPaIdmFDtzV"
      },
      "source": [
        "def visualize_attention(emb, group_ids, att_func):\r\n",
        "  x1min, x2min = np.min(emb, axis=0) - 0.5\r\n",
        "  x1max, x2max = np.max(emb, axis=0) + 0.5\r\n",
        "  xx, yy = np.meshgrid(np.arange(x1min, x1max, 0.02), np.arange(x2min, x2max, 0.05))\r\n",
        "  newX = np.hstack([\r\n",
        "        xx.flatten().reshape(xx.size, 1),\r\n",
        "        yy.flatten().reshape(yy.size, 1)])\r\n",
        "  att_score = att_func(torch.tensor(newX, dtype=torch.float)).detach().numpy()  \r\n",
        "  zz = att_score.reshape(xx.shape)    \r\n",
        "  plt.contourf(xx, yy, zz, cmap=\"coolwarm\")\r\n",
        "  scatter = plt.scatter(emb[:, 0], emb[:, 1], c=group_ids)   \r\n",
        "  plt.legend(*scatter.legend_elements(),\r\n",
        "                      loc=\"lower left\", title=\"Classes\") "
      ],
      "execution_count": null,
      "outputs": []
    },
    {
      "cell_type": "code",
      "metadata": {
        "colab": {
          "base_uri": "https://localhost:8080/",
          "height": 265
        },
        "id": "sgP6T6d6xPLZ",
        "outputId": "aa6f5c96-dea0-41bd-cf08-9e32c51e42b2"
      },
      "source": [
        "word_embs = model.emb.weight.detach().numpy()\r\n",
        "word_group_ids = [word_groups[w][1] for w in word_enc.classes_]\r\n",
        "visualize_attention(word_embs, word_group_ids, lambda x: amodel.get_attention_weights(x, False))"
      ],
      "execution_count": null,
      "outputs": [
        {
          "output_type": "display_data",
          "data": {
            "image/png": "[encoded data removed]",
            "text/plain": [
              "<Figure size 432x288 with 1 Axes>"
            ]
          },
          "metadata": {
            "tags": [],
            "needs_background": "light"
          }
        }
      ]
    },
    {
      "cell_type": "markdown",
      "metadata": {
        "id": "uxj9TzordBCS"
      },
      "source": [
        "### 檢視序列中的注意力分數"
      ]
    },
    {
      "cell_type": "code",
      "metadata": {
        "id": "294wPhTF0AZ2"
      },
      "source": [
        "def predict_seq(idx):\r\n",
        "  polarity, att_score = amodel(torch.tensor([seqs_ids[idx]]))\r\n",
        "  print(\"{}: {:.4f}\".format(\" \".join(seqs_words[idx]), polarity.detach().item()))\r\n",
        "  print(\"attention: {}\".format(att_score.squeeze().detach().numpy()))"
      ],
      "execution_count": null,
      "outputs": []
    },
    {
      "cell_type": "code",
      "metadata": {
        "colab": {
          "base_uri": "https://localhost:8080/"
        },
        "id": "a0OYjwPbBGSM",
        "outputId": "3b333f43-db3a-428a-f6c3-7848ba0aeb26"
      },
      "source": [
        "amodel.emb(torch.tensor(seqs_ids[200]))"
      ],
      "execution_count": null,
      "outputs": [
        {
          "output_type": "execute_result",
          "data": {
            "text/plain": [
              "tensor([[ 1.5469,  1.7230],\n",
              "        [-2.1061,  0.6583],\n",
              "        [ 1.2880, -1.8097]])"
            ]
          },
          "metadata": {
            "tags": []
          },
          "execution_count": 17
        }
      ]
    },
    {
      "cell_type": "code",
      "metadata": {
        "colab": {
          "base_uri": "https://localhost:8080/"
        },
        "id": "eqwVkyl64wou",
        "outputId": "66fc83fa-3f45-4cec-8e9e-c0b5c761dc47"
      },
      "source": [
        "predict_seq(10)\r\n",
        "predict_seq(20)\r\n",
        "predict_seq(200)"
      ],
      "execution_count": null,
      "outputs": [
        {
          "output_type": "stream",
          "text": [
            "作業 學校 好吃: 0.9984\n",
            "attention: [0.15524924 0.01811317 0.82663757]\n",
            "電影 好吃 學校: 0.9988\n",
            "attention: [0.14751312 0.83420783 0.01827904]\n",
            "難聽 音樂 學校: 0.0007\n",
            "attention: [0.9862593  0.01226216 0.00147855]\n"
          ],
          "name": "stdout"
        }
      ]
    },
    {
      "cell_type": "code",
      "metadata": {
        "id": "fo23AVaaR7ji"
      },
      "source": [
        ""
      ],
      "execution_count": null,
      "outputs": []
    }
  ]
}